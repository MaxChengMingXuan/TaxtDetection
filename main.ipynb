{
 "cells": [
  {
   "cell_type": "code",
   "execution_count": 10,
   "metadata": {},
   "outputs": [],
   "source": [
    "import os\n",
    "from PIL import Image, ImageMorph\n",
    "import matplotlib.pyplot as plt\n",
    "import matplotlib.image as mpimg\n",
    "import numpy as np\n",
    "from skimage.transform import rotate\n",
    "import cv2\n",
    "from torch.utils.data import DataLoader, Dataset\n"
   ]
  },
  {
   "cell_type": "code",
   "execution_count": 11,
   "metadata": {},
   "outputs": [
    {
     "name": "stdout",
     "output_type": "stream",
     "text": [
      "9\n",
      "[15 16 24]\n"
     ]
    }
   ],
   "source": [
    "data_path = \"./data/train/\"\n",
    "\n",
    "image_fns = os.listdir(data_path)\n",
    "print(len(image_fns))\n",
    "print(np.unique([len(image_fn.split(\".\")[0]) for image_fn in image_fns]))"
   ]
  },
  {
   "cell_type": "markdown",
   "metadata": {},
   "source": [
    "## Image Preprocessing"
   ]
  },
  {
   "cell_type": "code",
   "execution_count": 12,
   "metadata": {},
   "outputs": [],
   "source": [
    "def segment_yellow(image_path):\n",
    "   # Load the image\n",
    "   image = cv2.imread(image_path)\n",
    "\n",
    "   # Convert the image to HSV color space\n",
    "   hsv = cv2.cvtColor(image, cv2.COLOR_BGR2HSV)\n",
    "\n",
    "   # Define range of yellow color in HSV\n",
    "   lower_yellow = np.array([20,100,100])\n",
    "   upper_yellow = np.array([30,255,255])\n",
    "\n",
    "   # Threshold the HSV image to get only yellow colors\n",
    "   mask = cv2.inRange(hsv, lower_yellow, upper_yellow)\n",
    "\n",
    "   return mask"
   ]
  },
  {
   "cell_type": "code",
   "execution_count": 13,
   "metadata": {},
   "outputs": [
    {
     "data": {
      "text/plain": [
       "<matplotlib.image.AxesImage at 0x7fd8d465fa10>"
      ]
     },
     "execution_count": 13,
     "metadata": {},
     "output_type": "execute_result"
    },
    {
     "data": {
      "image/png": "[encoded data removed]",
      "text/plain": [
       "<Figure size 640x480 with 1 Axes>"
      ]
     },
     "metadata": {},
     "output_type": "display_data"
    }
   ],
   "source": [
    "image_path = data_path + image_fns[0]\n",
    "image_with_yellow_segment = segment_yellow(image_path)\n",
    "plt.imshow(image_with_yellow_segment)"
   ]
  },
  {
   "cell_type": "markdown",
   "metadata": {},
   "source": [
    "## Text Detection using pytorch\n",
    "\n",
    "Need more research"
   ]
  },
  {
   "cell_type": "code",
   "execution_count": 14,
   "metadata": {},
   "outputs": [],
   "source": [
    "class TextDetectionDataset(Dataset):\n",
    "    def __init__(self, root_dir):\n",
    "        self.root_dir = root_dir\n",
    "        self.image_paths = [os.path.join(root_dir, file) for file in os.listdir(root_dir) if file.endswith(('.jpg', '.jpeg', '.png'))]\n",
    "\n",
    "    def __len__(self):\n",
    "        return len(self.image_paths)\n",
    "\n",
    "    def __getitem__(self, idx):\n",
    "        image_path = self.image_paths[idx]\n",
    "        image = Image.open(image_path).convert(\"RGB\")\n",
    "        return image"
   ]
  },
  {
   "cell_type": "markdown",
   "metadata": {},
   "source": [
    "## Experimental using DocTR"
   ]
  },
  {
   "cell_type": "code",
   "execution_count": 15,
   "metadata": {},
   "outputs": [],
   "source": [
    "import os\n",
    "from doctr.models import detection_predictor\n",
    "# Let's pick the desired backend\n",
    "# os.environ['USE_TF'] = '1'\n",
    "os.environ['USE_TORCH'] = '1'\n",
    "\n",
    "import matplotlib.pyplot as plt\n",
    "\n",
    "from doctr.io import DocumentFile\n",
    "from doctr.models import ocr_predictor\n",
    "from doctr.models import recognition_predictor"
   ]
  },
  {
   "cell_type": "code",
   "execution_count": 16,
   "metadata": {},
   "outputs": [
    {
     "name": "stdout",
     "output_type": "stream",
     "text": [
      "1\n"
     ]
    }
   ],
   "source": [
    "doc = DocumentFile.from_images([image_path])\n",
    "# predictor = detection_predictor('db_resnet50', pretrained=True, assume_straight_pages=False)\n",
    "predictor = detection_predictor('db_resnet50_rotation', pretrained=True, assume_straight_pages=False, preserve_aspect_ratio=True)\n",
    "boxes = predictor(doc)\n",
    "# result.show(doc)\n",
    "print(len(boxes))"
   ]
  },
  {
   "cell_type": "code",
   "execution_count": 17,
   "metadata": {},
   "outputs": [],
   "source": [
    "recognizer = recognition_predictor('crnn_vgg16_bn', pretrained=True)\n",
    "img = cv2.imread(image_path)\n",
    "img_rgb = cv2.cvtColor(img, cv2.COLOR_BGR2RGB)"
   ]
  },
  {
   "cell_type": "code",
   "execution_count": 24,
   "metadata": {},
   "outputs": [
    {
     "ename": "ValueError",
     "evalue": "operands could not be broadcast together with shapes (4,2) (4,) ",
     "output_type": "error",
     "traceback": [
      "\u001b[0;31m---------------------------------------------------------------------------\u001b[0m",
      "\u001b[0;31mValueError\u001b[0m                                Traceback (most recent call last)",
      "\u001b[1;32m/home/personal/TaxtDetection/main.ipynb Cell 12\u001b[0m line \u001b[0;36m3\n\u001b[1;32m     <a href='vscode-notebook-cell://wsl%2Bubuntu/home/personal/TaxtDetection/main.ipynb#X14sdnNjb2RlLXJlbW90ZQ%3D%3D?line=30'>31</a>\u001b[0m \u001b[39mfor\u001b[39;00m rect_data \u001b[39min\u001b[39;00m rectangles:\n\u001b[1;32m     <a href='vscode-notebook-cell://wsl%2Bubuntu/home/personal/TaxtDetection/main.ipynb#X14sdnNjb2RlLXJlbW90ZQ%3D%3D?line=31'>32</a>\u001b[0m     \u001b[39mfor\u001b[39;00m rect \u001b[39min\u001b[39;00m rect_data[\u001b[39m'\u001b[39m\u001b[39mwords\u001b[39m\u001b[39m'\u001b[39m]:\n\u001b[1;32m     <a href='vscode-notebook-cell://wsl%2Bubuntu/home/personal/TaxtDetection/main.ipynb#X14sdnNjb2RlLXJlbW90ZQ%3D%3D?line=32'>33</a>\u001b[0m         \u001b[39m# Convert normalized coordinates to pixel coordinates\u001b[39;00m\n\u001b[0;32m---> <a href='vscode-notebook-cell://wsl%2Bubuntu/home/personal/TaxtDetection/main.ipynb#X14sdnNjb2RlLXJlbW90ZQ%3D%3D?line=33'>34</a>\u001b[0m         rect_pixel_coords \u001b[39m=\u001b[39m rect \u001b[39m*\u001b[39;49m np\u001b[39m.\u001b[39;49marray([img\u001b[39m.\u001b[39;49mshape[\u001b[39m1\u001b[39;49m], img\u001b[39m.\u001b[39;49mshape[\u001b[39m0\u001b[39;49m], img\u001b[39m.\u001b[39;49mshape[\u001b[39m1\u001b[39;49m], img\u001b[39m.\u001b[39;49mshape[\u001b[39m0\u001b[39;49m]])\n\u001b[1;32m     <a href='vscode-notebook-cell://wsl%2Bubuntu/home/personal/TaxtDetection/main.ipynb#X14sdnNjb2RlLXJlbW90ZQ%3D%3D?line=35'>36</a>\u001b[0m         \u001b[39m# Create a rectangle patch\u001b[39;00m\n\u001b[1;32m     <a href='vscode-notebook-cell://wsl%2Bubuntu/home/personal/TaxtDetection/main.ipynb#X14sdnNjb2RlLXJlbW90ZQ%3D%3D?line=36'>37</a>\u001b[0m         rectangle \u001b[39m=\u001b[39m patches\u001b[39m.\u001b[39mPolygon(rect_pixel_coords, edgecolor\u001b[39m=\u001b[39m\u001b[39m'\u001b[39m\u001b[39myellow\u001b[39m\u001b[39m'\u001b[39m, linewidth\u001b[39m=\u001b[39m\u001b[39m2\u001b[39m, fill\u001b[39m=\u001b[39m\u001b[39mFalse\u001b[39;00m)\n",
      "\u001b[0;31mValueError\u001b[0m: operands could not be broadcast together with shapes (4,2) (4,) "
     ]
    },
    {
     "data": {
      "image/png": "[encoded data removed]",
      "text/plain": [
       "<Figure size 640x480 with 1 Axes>"
      ]
     },
     "metadata": {},
     "output_type": "display_data"
    }
   ],
   "source": [
    "import os\n",
    "import cv2\n",
    "from doctr.models import detection_predictor\n",
    "from matplotlib import patches\n",
    "# Let's pick the desired backend\n",
    "# os.environ['USE_TF'] = '1'\n",
    "os.environ['USE_TORCH'] = '1'\n",
    "\n",
    "import matplotlib.pyplot as plt\n",
    "\n",
    "from doctr.io import DocumentFile\n",
    "from doctr.models import ocr_predictor\n",
    "from doctr.models import recognition_predictor\n",
    "import numpy as np\n",
    "\n",
    "\n",
    "data_path = \"./data/train/\"\n",
    "image_fns = os.listdir(data_path)\n",
    "image_path = data_path + \"VT-OE-201901902(Scaled).jpg\"\n",
    "doc = DocumentFile.from_images([image_path])\n",
    "# predictor = detection_predictor('db_resnet50', pretrained=True, assume_straight_pages=False)\n",
    "predictor = detection_predictor('db_resnet50_rotation', pretrained=True, assume_straight_pages=False)\n",
    "img = cv2.imread(image_path)\n",
    "rectangles = predictor([img])\n",
    "\n",
    "# Create a figure and axes\n",
    "fig, ax = plt.subplots()\n",
    "\n",
    "# Display the image\n",
    "ax.imshow(img)\n",
    "for rect_data in rectangles:\n",
    "    for rect in rect_data['words']:\n",
    "        # Convert normalized coordinates to pixel coordinates\n",
    "        rect_pixel_coords = rect * np.array([img.shape[1], img.shape[0], img.shape[1], img.shape[0]])\n",
    "        \n",
    "        # Create a rectangle patch\n",
    "        rectangle = patches.Polygon(rect_pixel_coords, edgecolor='yellow', linewidth=2, fill=False)\n",
    "\n",
    "        # Add the rectangle to the axes\n",
    "        ax.add_patch(rectangle)\n",
    "\n",
    "# Set axis limits\n",
    "ax.set_xlim(0, img.shape[1])\n",
    "ax.set_ylim(img.shape[0], 0)\n",
    "\n",
    "# Save the plotted image\n",
    "plt.savefig('myimage.jpg')\n",
    "\n",
    "# Show the plotted image (optional)\n",
    "plt.show()\n",
    "# result.show(doc)"
   ]
  },
  {
   "cell_type": "code",
   "execution_count": 23,
   "metadata": {},
   "outputs": [
    {
     "ename": "error",
     "evalue": "OpenCV(4.8.1) :-1: error: (-5:Bad argument) in function 'rectangle'\n> Overload resolution failed:\n>  - argument for rectangle() given by name ('thickness') and position (5)\n>  - argument for rectangle() given by name ('thickness') and position (5)\n>  - rectangle() takes at most 6 arguments (7 given)\n>  - rectangle() takes at most 6 arguments (7 given)\n",
     "output_type": "error",
     "traceback": [
      "\u001b[0;31m---------------------------------------------------------------------------\u001b[0m",
      "\u001b[0;31merror\u001b[0m                                     Traceback (most recent call last)",
      "\u001b[1;32m/home/personal/TaxtDetection/main.ipynb Cell 13\u001b[0m line \u001b[0;36m9\n\u001b[1;32m      <a href='vscode-notebook-cell://wsl%2Bubuntu/home/personal/TaxtDetection/main.ipynb#X15sdnNjb2RlLXJlbW90ZQ%3D%3D?line=5'>6</a>\u001b[0m coor4x, coor4y \u001b[39m=\u001b[39m box[\u001b[39m3\u001b[39m][\u001b[39m0\u001b[39m], box[\u001b[39m3\u001b[39m][\u001b[39m1\u001b[39m]\n\u001b[1;32m      <a href='vscode-notebook-cell://wsl%2Bubuntu/home/personal/TaxtDetection/main.ipynb#X15sdnNjb2RlLXJlbW90ZQ%3D%3D?line=7'>8</a>\u001b[0m \u001b[39m# Draw the bounding box\u001b[39;00m\n\u001b[0;32m----> <a href='vscode-notebook-cell://wsl%2Bubuntu/home/personal/TaxtDetection/main.ipynb#X15sdnNjb2RlLXJlbW90ZQ%3D%3D?line=8'>9</a>\u001b[0m cv2\u001b[39m.\u001b[39;49mrectangle(img, (\u001b[39m5\u001b[39;49m, \u001b[39m5\u001b[39;49m), (\u001b[39m220\u001b[39;49m, \u001b[39m220\u001b[39;49m), (\u001b[39m255\u001b[39;49m,\u001b[39m0\u001b[39;49m,\u001b[39m0\u001b[39;49m), \u001b[39m2\u001b[39;49m, cv2\u001b[39m.\u001b[39;49mLINE_AA, thickness\u001b[39m=\u001b[39;49m\u001b[39m1\u001b[39;49m)\n\u001b[1;32m     <a href='vscode-notebook-cell://wsl%2Bubuntu/home/personal/TaxtDetection/main.ipynb#X15sdnNjb2RlLXJlbW90ZQ%3D%3D?line=9'>10</a>\u001b[0m cv2\u001b[39m.\u001b[39mimwrite(\u001b[39m\"\u001b[39m\u001b[39mmy.png\u001b[39m\u001b[39m\"\u001b[39m,img)\n\u001b[1;32m     <a href='vscode-notebook-cell://wsl%2Bubuntu/home/personal/TaxtDetection/main.ipynb#X15sdnNjb2RlLXJlbW90ZQ%3D%3D?line=10'>11</a>\u001b[0m \u001b[39m# # Crop the image within the bounding box\u001b[39;00m\n\u001b[1;32m     <a href='vscode-notebook-cell://wsl%2Bubuntu/home/personal/TaxtDetection/main.ipynb#X15sdnNjb2RlLXJlbW90ZQ%3D%3D?line=11'>12</a>\u001b[0m \u001b[39m# crop_img = img_rgb[ymin:ymax, xmin:xmax]\u001b[39;00m\n\u001b[1;32m     <a href='vscode-notebook-cell://wsl%2Bubuntu/home/personal/TaxtDetection/main.ipynb#X15sdnNjb2RlLXJlbW90ZQ%3D%3D?line=12'>13</a>\u001b[0m \n\u001b[0;32m   (...)\u001b[0m\n\u001b[1;32m     <a href='vscode-notebook-cell://wsl%2Bubuntu/home/personal/TaxtDetection/main.ipynb#X15sdnNjb2RlLXJlbW90ZQ%3D%3D?line=16'>17</a>\u001b[0m \u001b[39m# # Print the recognized text\u001b[39;00m\n\u001b[1;32m     <a href='vscode-notebook-cell://wsl%2Bubuntu/home/personal/TaxtDetection/main.ipynb#X15sdnNjb2RlLXJlbW90ZQ%3D%3D?line=17'>18</a>\u001b[0m \u001b[39m# print(text)\u001b[39;00m\n",
      "\u001b[0;31merror\u001b[0m: OpenCV(4.8.1) :-1: error: (-5:Bad argument) in function 'rectangle'\n> Overload resolution failed:\n>  - argument for rectangle() given by name ('thickness') and position (5)\n>  - argument for rectangle() given by name ('thickness') and position (5)\n>  - rectangle() takes at most 6 arguments (7 given)\n>  - rectangle() takes at most 6 arguments (7 given)\n"
     ]
    }
   ],
   "source": [
    "for box in boxes[0][\"words\"]:\n",
    "    # print(box)\n",
    "    coor1x, coor1y = box[0][0], box[0][1]\n",
    "    coor2x, coor2y = box[1][0], box[1][1]\n",
    "    coor3x, coor3y = box[2][0], box[2][1]\n",
    "    coor4x, coor4y = box[3][0], box[3][1]\n",
    "\n",
    "    # Draw the bounding box\n",
    "    cv2.rectangle(img, (5, 5), (220, 220), (255,0,0), 2, cv2.LINE_AA, thickness=1)\n",
    "    cv2.imwrite(\"my.png\",img)\n",
    "    # # Crop the image within the bounding box\n",
    "    # crop_img = img_rgb[ymin:ymax, xmin:xmax]\n",
    "    \n",
    "    # # Recognize the text in the cropped image\n",
    "    # text = recognizer(crop_img)\n",
    "    \n",
    "    # # Print the recognized text\n",
    "    # print(text)"
   ]
  },
  {
   "cell_type": "code",
   "execution_count": 19,
   "metadata": {},
   "outputs": [],
   "source": [
    "import os\n",
    "from doctr.models import detection_predictor\n",
    "# Let's pick the desired backend\n",
    "# os.environ['USE_TF'] = '1'\n",
    "os.environ['USE_TORCH'] = '1'\n",
    "\n",
    "import matplotlib.pyplot as plt\n",
    "\n",
    "from doctr.io import DocumentFile\n",
    "from doctr.models import ocr_predictor\n",
    "from doctr.models import recognition_predictor\n",
    "import numpy as np\n",
    "\n",
    "\n",
    "data_path = \"./data/train/\"\n",
    "image_fns = os.listdir(data_path)\n",
    "image_path = data_path + image_fns[0]\n",
    "doc = DocumentFile.from_images([image_path])\n",
    "# predictor = detection_predictor('db_resnet50', pretrained=True, assume_straight_pages=False)\n",
    "predictor = detection_predictor('db_resnet50_rotation', pretrained=True, assume_straight_pages=False, preserve_aspect_ratio=True)\n",
    "dummy_img = (255 * np.random.rand(800, 600, 3)).astype(np.uint8)\n",
    "out = predictor([dummy_img])"
   ]
  },
  {
   "cell_type": "code",
   "execution_count": null,
   "metadata": {},
   "outputs": [],
   "source": []
  },
  {
   "cell_type": "markdown",
   "metadata": {},
   "source": [
    "## Experiment 3"
   ]
  },
  {
   "cell_type": "code",
   "execution_count": 48,
   "metadata": {},
   "outputs": [],
   "source": [
    "import os\n",
    "import cv2\n",
    "from doctr.models import detection_predictor\n",
    "from PIL import Image, ExifTags\n",
    "from matplotlib import patches\n",
    "# Let's pick the desired backend\n",
    "# os.environ['USE_TF'] = '1'\n",
    "os.environ['USE_TORCH'] = '1'\n",
    "\n",
    "import matplotlib.pyplot as plt\n",
    "\n",
    "from doctr.io import DocumentFile\n",
    "from doctr.models import ocr_predictor\n",
    "from doctr.models import recognition_predictor\n",
    "import numpy as np\n",
    "from doctr.utils.visualization import visualize_page\n"
   ]
  },
  {
   "cell_type": "code",
   "execution_count": 50,
   "metadata": {},
   "outputs": [
    {
     "name": "stdout",
     "output_type": "stream",
     "text": [
      "3072 4096\n",
      "[[[2088 1956]\n",
      "  [2136 1956]\n",
      "  [2136 1983]\n",
      "  [2088 1983]]\n",
      "\n",
      " [[2817 1906]\n",
      "  [2821 1972]\n",
      "  [2106 1999]\n",
      "  [2102 1933]]]\n"
     ]
    },
    {
     "ename": "error",
     "evalue": "OpenCV(4.8.1) /io/opencv/modules/imgproc/src/drawing.cpp:2463: error: (-215:Assertion failed) p.checkVector(2, CV_32S) >= 0 in function 'polylines'\n",
     "output_type": "error",
     "traceback": [
      "\u001b[0;31m---------------------------------------------------------------------------\u001b[0m",
      "\u001b[0;31merror\u001b[0m                                     Traceback (most recent call last)",
      "\u001b[1;32m/home/personal/TaxtDetection/main.ipynb Cell 18\u001b[0m line \u001b[0;36m1\n\u001b[1;32m     <a href='vscode-notebook-cell://wsl%2Bubuntu/home/personal/TaxtDetection/main.ipynb#X26sdnNjb2RlLXJlbW90ZQ%3D%3D?line=14'>15</a>\u001b[0m color \u001b[39m=\u001b[39m (\u001b[39m0\u001b[39m, \u001b[39m255\u001b[39m, \u001b[39m0\u001b[39m)\n\u001b[1;32m     <a href='vscode-notebook-cell://wsl%2Bubuntu/home/personal/TaxtDetection/main.ipynb#X26sdnNjb2RlLXJlbW90ZQ%3D%3D?line=15'>16</a>\u001b[0m thickness \u001b[39m=\u001b[39m \u001b[39m2\u001b[39m\n\u001b[0;32m---> <a href='vscode-notebook-cell://wsl%2Bubuntu/home/personal/TaxtDetection/main.ipynb#X26sdnNjb2RlLXJlbW90ZQ%3D%3D?line=16'>17</a>\u001b[0m img \u001b[39m=\u001b[39m cv2\u001b[39m.\u001b[39;49mpolylines(img, [pixel_coordinates], isClosed, color, thickness)\n\u001b[1;32m     <a href='vscode-notebook-cell://wsl%2Bubuntu/home/personal/TaxtDetection/main.ipynb#X26sdnNjb2RlLXJlbW90ZQ%3D%3D?line=17'>18</a>\u001b[0m cv2\u001b[39m.\u001b[39mimwrite(os\u001b[39m.\u001b[39mpath\u001b[39m.\u001b[39mjoin(data_path , \u001b[39m'\u001b[39m\u001b[39mwaka.jpg\u001b[39m\u001b[39m'\u001b[39m), img)\n\u001b[1;32m     <a href='vscode-notebook-cell://wsl%2Bubuntu/home/personal/TaxtDetection/main.ipynb#X26sdnNjb2RlLXJlbW90ZQ%3D%3D?line=18'>19</a>\u001b[0m cv2\u001b[39m.\u001b[39mwaitKey(\u001b[39m0\u001b[39m)\n",
      "\u001b[0;31merror\u001b[0m: OpenCV(4.8.1) /io/opencv/modules/imgproc/src/drawing.cpp:2463: error: (-215:Assertion failed) p.checkVector(2, CV_32S) >= 0 in function 'polylines'\n"
     ]
    }
   ],
   "source": [
    "data_path = \"./data/train/\"\n",
    "image_fns = os.listdir(data_path)\n",
    "image_path = data_path + \"VT-OE-202011925(Scaled).jpg\"\n",
    "doc = DocumentFile.from_images([image_path])\n",
    "# predictor = detection_predictor('db_resnet50', pretrained=True, assume_straight_pages=False)\n",
    "predictor = detection_predictor('db_resnet50_rotation', pretrained=True, assume_straight_pages=False)\n",
    "img = cv2.imread(image_path)\n",
    "rectangles = predictor([img])\n",
    "height, width = img.shape[:2]\n",
    "print(height, width)\n",
    "normalized_coordinates = (rectangles[0][\"words\"])\n",
    "pixel_coordinates = (normalized_coordinates * np.array([width, height])).astype(int)\n",
    "print(pixel_coordinates)\n",
    "isClosed = True\n",
    "color = (0, 255, 0)\n",
    "thickness = 2\n",
    "img = cv2.polylines(img, [pixel_coordinates], isClosed, color, thickness)\n",
    "cv2.imwrite(os.path.join(data_path , 'waka.jpg'), img)\n",
    "cv2.waitKey(0)\n",
    "\n",
    "# Crop image to bounding box\n",
    "mask = np.zeros_like(img)\n",
    "cv2.fillPoly(mask, pixel_coordinates, (255,255,255))\n",
    "img = cv2.bitwise_and(img, mask)\n",
    "x, y, w, h = cv2.boundingRect(pixel_coordinates)\n",
    "cropped_img = img[y:y+h, x:x+w]\n",
    "cv2.imwrite(os.path.join(data_path , 'waka2.jpg'), cropped_img)\n",
    "cropped_img = cv2.imread(os.path.join(data_path , 'waka2.jpg'))\n",
    "predictor = recognition_predictor('crnn_vgg16_bn', detect_orientation=True, pretrained=True)\n",
    "print(predictor.model.cfg['vocab'])\n",
    "result = predictor([cropped_img])\n",
    "print(result)"
   ]
  },
  {
   "cell_type": "code",
   "execution_count": null,
   "metadata": {},
   "outputs": [],
   "source": []
  }
 ],
 "metadata": {
  "kernelspec": {
   "display_name": "venv",
   "language": "python",
   "name": "python3"
  },
  "language_info": {
   "codemirror_mode": {
    "name": "ipython",
    "version": 3
   },
   "file_extension": ".py",
   "mimetype": "text/x-python",
   "name": "python",
   "nbconvert_exporter": "python",
   "pygments_lexer": "ipython3",
   "version": "3.11.6"
  }
 },
 "nbformat": 4,
 "nbformat_minor": 2
}
